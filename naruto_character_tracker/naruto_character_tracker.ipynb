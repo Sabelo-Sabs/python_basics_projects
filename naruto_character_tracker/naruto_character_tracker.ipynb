{
 "cells": [
  {
   "cell_type": "markdown",
   "id": "46586d68",
   "metadata": {},
   "source": [
    "### Step 1: Import the json module\n",
    "This module handles JSON data. JSON is a format for storing and transporting data, commonly used for configuration files or data exchange between servers and web applications."
   ]
  },
  {
   "cell_type": "code",
   "execution_count": 1,
   "id": "298ac97a",
   "metadata": {},
   "outputs": [],
   "source": [
    "import json"
   ]
  },
  {
   "cell_type": "markdown",
   "id": "f652b581",
   "metadata": {},
   "source": [
    "### Step 2: Define the `load_characters` function\n",
    "This function attempts to open and read from a file (`filename`), returning the data as a Python dictionary. If the file does not exist (`FileNotFoundError`), it returns an empty dictionary `{}` instead."
   ]
  },
  {
   "cell_type": "code",
   "execution_count": 2,
   "id": "66da54e8",
   "metadata": {},
   "outputs": [],
   "source": [
    "def load_characters(filename='naruto_characters.json'):\n",
    "    try:\n",
    "        with open(filename, 'r') as file:\n",
    "            return json.load(file)\n",
    "    except FileNotFoundError:\n",
    "        return {}"
   ]
  },
  {
   "cell_type": "markdown",
   "id": "8939189e",
   "metadata": {},
   "source": [
    "### Step 3: Define the `save_characters` function\n",
    "This function writes the characters dictionary to a file specified by `filename`. The data is stored in JSON format. The `indent=4` parameter makes the JSON data easier to read by adding indentation."
   ]
  },
  {
   "cell_type": "code",
   "execution_count": 3,
   "id": "986a91da",
   "metadata": {},
   "outputs": [],
   "source": [
    "def save_characters(characters, filename='naruto_characters.json'):\n",
    "    with open(filename, 'w') as file:\n",
    "        json.dump(characters, file, indent=4)"
   ]
  },
  {
   "cell_type": "markdown",
   "id": "2cd59d66",
   "metadata": {},
   "source": [
    "### Step 4: Load characters\n",
    "Characters are loaded from the file using `load_characters()`. If the file doesn't exist or is empty, the function will return an empty dictionary."
   ]
  },
  {
   "cell_type": "code",
   "execution_count": 4,
   "id": "a75b50d9",
   "metadata": {},
   "outputs": [],
   "source": [
    "characters = load_characters()"
   ]
  },
  {
   "cell_type": "markdown",
   "id": "2815461b",
   "metadata": {},
   "source": [
    "### Step 5: Set default characters\n",
    "If no characters were loaded (i.e., the dictionary is empty), the code defines a default set of characters (Naruto Uzumaki and Itachi Uchiha) with their attributes."
   ]
  },
  {
   "cell_type": "code",
   "execution_count": 5,
   "id": "99cda3d3",
   "metadata": {},
   "outputs": [],
   "source": [
    "if not characters:\n",
    "    characters = {\n",
    "        \"Naruto Uzumaki\": {\n",
    "            \"abilities\": [\"Rasengan 💥\", \"Shadow Clone Jutsu 👥\"],\n",
    "            \"affiliation\": \"Leaf Village 🍃\",\n",
    "            \"arc\": \"Shippuden 🌀\"\n",
    "        },\n",
    "        \"Itachi Uchiha\": {\n",
    "            \"abilities\": [\"Amaterasu 🔥\", \"Tsukuyomi 🌙\"],\n",
    "            \"affiliation\": \"Leaf Village 🍃\",\n",
    "            \"arc\": \"Akatsuki ⭐\"\n",
    "        }\n",
    "    }"
   ]
  },
  {
   "cell_type": "markdown",
   "id": "3c0d1db0",
   "metadata": {},
   "source": [
    "### Step 6: Save the characters\n",
    "The characters (either loaded or default) are then saved back to the file using `save_characters()`. This ensures that there is always a file with character data for future operations."
   ]
  },
  {
   "cell_type": "code",
   "execution_count": 6,
   "id": "603d02a1",
   "metadata": {},
   "outputs": [
    {
     "name": "stdout",
     "output_type": "stream",
     "text": [
      "Characters loaded and saved successfully.\n"
     ]
    }
   ],
   "source": [
    "save_characters(characters)\n",
    "print(\"Characters loaded and saved successfully.\")"
   ]
  },
  {
   "cell_type": "markdown",
   "id": "c7251950",
   "metadata": {},
   "source": [
    "### Step 7: Define the `load_and_display_characters` function\n",
    "This function reads characters from a file and prints each character's details. If the file is not found, it prints a message indicating that the character file is missing."
   ]
  },
  {
   "cell_type": "code",
   "execution_count": 7,
   "id": "a714d9fe",
   "metadata": {},
   "outputs": [],
   "source": [
    "def load_and_display_characters(filename='naruto_characters.json'):\n",
    "    try:\n",
    "        with open(filename, 'r') as file:\n",
    "            characters = json.load(file)\n",
    "            for name, details in characters.items():\n",
    "                print(f\"{name}:\")\n",
    "                for key, value in details.items():\n",
    "                    print(f\"  {key}: {value}\")\n",
    "    except FileNotFoundError:\n",
    "        print(\"Character file not found.\")"
   ]
  },
  {
   "cell_type": "markdown",
   "id": "ef5b1b72",
   "metadata": {},
   "source": [
    "### Step 8: Test loading and displaying characters\n",
    "Load characters from the file and display their details."
   ]
  },
  {
   "cell_type": "code",
   "execution_count": 8,
   "id": "a80d25b3",
   "metadata": {},
   "outputs": [
    {
     "name": "stdout",
     "output_type": "stream",
     "text": [
      "Naruto Uzumaki:\n",
      "  abilities: ['Rasengan 💥', 'Shadow Clone Jutsu 👥']\n",
      "  affiliation: Leaf Village 🍃\n",
      "  arc: Shippuden 🌀\n",
      "Itachi Uchiha:\n",
      "  abilities: ['Amaterasu 🔥', 'Tsukuyomi 🌙']\n",
      "  affiliation: Leaf Village 🍃\n",
      "  arc: Akatsuki ⭐\n"
     ]
    }
   ],
   "source": [
    "load_and_display_characters()"
   ]
  },
  {
   "cell_type": "markdown",
   "id": "7c751fca",
   "metadata": {},
   "source": [
    "### Step 9: Define the `search_characters_enhanced` function\n",
    "This function searches for characters by name with enhanced capabilities. It converts the search term to lowercase for case-insensitive comparison and checks for partial matches. If characters are found, it prints their names; otherwise, it indicates that no characters were found."
   ]
  },
  {
   "cell_type": "code",
   "execution_count": 9,
   "id": "d110233c",
   "metadata": {},
   "outputs": [],
   "source": [
    "def search_characters_enhanced(characters, search_term):\n",
    "    print(f\"Search results for '{search_term}':\")\n",
    "    found = False\n",
    "    search_term = search_term.lower()  # Convert search term to lower case for case-insensitive comparison\n",
    "    for character in characters:\n",
    "        if search_term in character.lower():  # Check for partial match in lower case\n",
    "            print(f\"- {character}\")\n",
    "            found = True\n",
    "    if not found:\n",
    "        print(\"No characters found.\")\n",
    "    print()  # Adds a blank line for better readability"
   ]
  },
  {
   "cell_type": "markdown",
   "id": "a213fdd8",
   "metadata": {},
   "source": [
    "### Step 10: Example usage of the enhanced search function\n",
    "Search for characters using partial and case-insensitive matching."
   ]
  },
  {
   "cell_type": "code",
   "execution_count": 10,
   "id": "1aae43c6",
   "metadata": {},
   "outputs": [
    {
     "name": "stdout",
     "output_type": "stream",
     "text": [
      "Search results for 'nar':\n",
      "- Naruto Uzumaki\n",
      "\n",
      "Search results for 'ITA':\n",
      "- Itachi Uchiha\n",
      "\n"
     ]
    }
   ],
   "source": [
    "search_characters_enhanced(characters, \"nar\")\n",
    "search_characters_enhanced(characters, \"ITA\")"
   ]
  },
  {
   "cell_type": "markdown",
   "id": "1d2c9255",
   "metadata": {},
   "source": [
    "### Step 11: Define additional functions\n",
    "These functions allow listing, adding, updating, and showing details of characters."
   ]
  },
  {
   "cell_type": "code",
   "execution_count": 11,
   "id": "56417ca4",
   "metadata": {},
   "outputs": [],
   "source": [
    "# Function to list all characters\n",
    "def list_characters(characters):\n",
    "    for name in characters:\n",
    "        print(f\"- {name}\")\n",
    "\n",
    "# Function to add a new character\n",
    "def add_character(characters, name, abilities, affiliation, arc):\n",
    "    characters[name] = {\n",
    "        \"abilities\": abilities,\n",
    "        \"affiliation\": affiliation,\n",
    "        \"arc\": arc\n",
    "    }\n",
    "    save_characters(characters)\n",
    "\n",
    "# Function to update an existing character\n",
    "def update_character(characters, name, abilities=None, affiliation=None, arc=None):\n",
    "    if name in characters:\n",
    "        if abilities:\n",
    "            characters[name]['abilities'] = abilities\n",
    "        if affiliation:\n",
    "            characters[name]['affiliation'] = affiliation\n",
    "        if arc:\n",
    "            characters[name]['arc'] = arc\n",
    "        save_characters(characters)\n",
    "    else:\n",
    "        print(f\"Character '{name}' not found.\")\n",
    "\n",
    "# Function to show details of a character\n",
    "def show_character_details(characters, name):\n",
    "    if name in characters:\n",
    "        details = characters[name]\n",
    "        print(f\"{name}:\")\n",
    "        for key, value in details.items():\n",
    "            print(f\"  {key}: {value}\")\n",
    "    else:\n",
    "        print(f\"Character '{name}' not found.\")"
   ]
  },
  {
   "cell_type": "markdown",
   "id": "a4665f6b",
   "metadata": {},
   "source": [
    "### Step 12: Define the main menu function\n",
    "The main function provides a menu for interacting with the character database. It offers options to list, add, update, show details, and search for characters, as well as exit the program."
   ]
  },
  {
   "cell_type": "code",
   "execution_count": 12,
   "id": "9ff656ab",
   "metadata": {},
   "outputs": [
    {
     "name": "stdout",
     "output_type": "stream",
     "text": [
      "\n",
      "Menu:\n",
      "1. List All Characters\n",
      "2. Add a New Character\n",
      "3. Update an Existing Character\n",
      "4. Show Character Details\n",
      "5. Search for a Character\n",
      "6. Exit\n",
      "\n",
      "List All Characters\n",
      "- Naruto Uzumaki\n",
      "- Itachi Uchiha\n",
      "\n",
      "Menu:\n",
      "1. List All Characters\n",
      "2. Add a New Character\n",
      "3. Update an Existing Character\n",
      "4. Show Character Details\n",
      "5. Search for a Character\n",
      "6. Exit\n",
      "\n",
      "Changes saved. Goodbye!\n"
     ]
    }
   ],
   "source": [
    "def main_menu():\n",
    "    filename = 'naruto_characters.json'\n",
    "    characters = load_characters(filename)\n",
    "\n",
    "    while True:\n",
    "        print(\"\\nMenu:\")\n",
    "        print(\"1. List All Characters\")\n",
    "        print(\"2. Add a New Character\")\n",
    "        print(\"3. Update an Existing Character\")\n",
    "        print(\"4. Show Character Details\")\n",
    "        print(\"5. Search for a Character\")\n",
    "        print(\"6. Exit\")\n",
    "        choice = input(\"\\nEnter your choice: \")\n",
    "\n",
    "        if choice == '1':\n",
    "            print(\"\\nList All Characters\")\n",
    "            list_characters(characters)\n",
    "        elif choice == '2':\n",
    "            print(\"\\nAdd a New Character\")\n",
    "            name = input(\"\\nEnter the character's name: \")\n",
    "            abilities = input(\"Enter the character's abilities (comma-separated): \").split(',')\n",
    "            affiliation = input(\"Enter the character's affiliation: \")\n",
    "            arc = input(\"Enter the character's arc: \")\n",
    "            add_character(characters, name, abilities, affiliation, arc)\n",
    "        elif choice == '3':\n",
    "            print(\"\\nUpdate an Existing Character\")\n",
    "            name = input(\"\\nEnter the character's name: \")\n",
    "            abilities = input(\"Enter the new abilities (comma-separated, leave blank if no change): \")\n",
    "            if abilities:\n",
    "                abilities = abilities.split(',')\n",
    "            affiliation = input(\"Enter the new affiliation (leave blank if no change): \")\n",
    "            arc = input(\"Enter the new arc (leave blank if no change): \")\n",
    "            update_character(characters, name, abilities, affiliation, arc)\n",
    "        elif choice == '4':\n",
    "            print(\"\\nShow Character Details\")\n",
    "            name = input(\"\\nEnter the character's name: \")\n",
    "            show_character_details(characters, name)\n",
    "        elif choice == '5':\n",
    "            print(\"\\nSearch for a Character\")\n",
    "            search_term = input(\"\\nEnter the search term: \")\n",
    "            search_characters_enhanced(characters, search_term)\n",
    "        elif choice == '6':\n",
    "            save_characters(characters, filename)\n",
    "            print(\"\\nChanges saved. Goodbye!\")\n",
    "            break\n",
    "        else:\n",
    "            print(\"\\nInvalid choice. Please try again.\\n\")\n",
    "\n",
    "if __name__ == \"__main__\":\n",
    "    main_menu()"
   ]
  }
 ],
 "metadata": {
  "kernelspec": {
   "display_name": "Python 3",
   "language": "python",
   "name": "python3"
  },
  "language_info": {
   "codemirror_mode": {
    "name": "ipython",
    "version": 3
   },
   "file_extension": ".py",
   "mimetype": "text/x-python",
   "name": "python",
   "nbconvert_exporter": "python",
   "pygments_lexer": "ipython3",
   "version": "3.10.13"
  }
 },
 "nbformat": 4,
 "nbformat_minor": 5
}
